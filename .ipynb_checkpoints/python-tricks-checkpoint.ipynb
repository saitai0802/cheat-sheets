{
 "cells": [
  {
   "cell_type": "code",
   "execution_count": 2,
   "metadata": {},
   "outputs": [
    {
     "name": "stdout",
     "output_type": "stream",
     "text": [
      "10 20\n",
      "20 10\n"
     ]
    }
   ],
   "source": [
    "#  In-Place Swapping Of Two Numbers.\n",
    "x, y = 10, 20\n",
    "print(x, y) \n",
    "x, y = y, x \n",
    "print(x, y) "
   ]
  },
  {
   "cell_type": "code",
   "execution_count": 12,
   "metadata": {},
   "outputs": [
    {
     "name": "stdout",
     "output_type": "stream",
     "text": [
      "Reverse is skeeGroFskeeG\n",
      "Reverse is HiddenMessage\n"
     ]
    }
   ],
   "source": [
    "# Reversing a string in Python - Extended Slices\n",
    "# The slice starts at the location defined by start, stops before the location stop is reached, \n",
    "# and moves from one position to the next by step items.\n",
    "\n",
    "# lice[start:stop:step]\n",
    "a =\"GeeksForGeeks\"\n",
    "b = \"HsifdgdbefndMsefsesfafgee\"\n",
    "print(\"Reverse is\", a[::-1]) # take a step of -1(reverse)\n",
    "print(\"Reverse is\", b[0::2]) "
   ]
  },
  {
   "cell_type": "code",
   "execution_count": 13,
   "metadata": {},
   "outputs": [
    {
     "name": "stdout",
     "output_type": "stream",
     "text": [
      "Geeks For Geeks\n"
     ]
    }
   ],
   "source": [
    "# Create a single string from all the elements in list\n",
    "\n",
    "a = [\"Geeks\", \"For\", \"Geeks\"] \n",
    "print(\" \".join(a)) "
   ]
  },
  {
   "cell_type": "code",
   "execution_count": null,
   "metadata": {},
   "outputs": [],
   "source": []
  },
  {
   "cell_type": "code",
   "execution_count": null,
   "metadata": {},
   "outputs": [],
   "source": []
  },
  {
   "cell_type": "code",
   "execution_count": null,
   "metadata": {},
   "outputs": [],
   "source": []
  },
  {
   "cell_type": "code",
   "execution_count": null,
   "metadata": {},
   "outputs": [],
   "source": []
  },
  {
   "cell_type": "code",
   "execution_count": null,
   "metadata": {},
   "outputs": [],
   "source": []
  }
 ],
 "metadata": {
  "kernelspec": {
   "display_name": "Python 3",
   "language": "python",
   "name": "python3"
  },
  "language_info": {
   "codemirror_mode": {
    "name": "ipython",
    "version": 3
   },
   "file_extension": ".py",
   "mimetype": "text/x-python",
   "name": "python",
   "nbconvert_exporter": "python",
   "pygments_lexer": "ipython3",
   "version": "3.6.3"
  }
 },
 "nbformat": 4,
 "nbformat_minor": 2
}
