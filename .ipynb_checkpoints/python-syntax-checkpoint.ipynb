{
 "cells": [
  {
   "cell_type": "markdown",
   "metadata": {},
   "source": [
    "# asterisk - (unpack / splat)\n",
    "\n",
    "See [Function Definitions](https://docs.python.org/2.7/reference/compound_stmts.html#function-definitions) in the Language Reference.\n",
    "\n",
    "- If the form `*identifier` is present, it is initialized to **a tuple** receiving any excess positional parameters, defaulting to the empty tuple. \n",
    "- If the form `**identifier` is present, it is initialized to **a dictionary** receiving any excess keyword arguments, defaulting to a new empty dictionary.\n",
    "\n",
    "## `*` operator\n",
    "The * (asterisk) character is not only used for multiplication and replication, but also for unpacking.\n",
    "\n",
    "- If applied on a list-like iterable, it produces the elements of the list. \n",
    "- If applied on a dict-like object, it produces the keys of the dict."
   ]
  },
  {
   "cell_type": "code",
   "execution_count": 18,
   "metadata": {
    "scrolled": true
   },
   "outputs": [
    {
     "name": "stdout",
     "output_type": "stream",
     "text": [
      "First is 1 then 50 lastly 99.\n",
      "First is [55, 66, 77] then 88 lastly 99.\n",
      "First is y then z lastly x.\n",
      "First is 23 then 46 lastly 100.\n"
     ]
    }
   ],
   "source": [
    "# Example 1: Using *args to call a functio\n",
    "\n",
    "test_list = [1, 50, 99]\n",
    "test_nested_list = [[55,66,77], 88, 99]\n",
    "test_dic = {\"y\": 23, \"z\": 56, \"x\": 15}\n",
    "test_tuple = (23, 46, 100)\n",
    "\n",
    "def foo(x, y, z):\n",
    "    print(\"First is {} then {} lastly {}.\".format(x,y,z))\n",
    " \n",
    "foo(*test_list)\n",
    "foo(*test_nested_list)\n",
    "foo(*test_dic)\n",
    "foo(*test_tuple)"
   ]
  },
  {
   "cell_type": "code",
   "execution_count": 11,
   "metadata": {},
   "outputs": [
    {
     "name": "stdout",
     "output_type": "stream",
     "text": [
      "first normal arg: yasoob\n",
      "another arg through *argv: python\n",
      "another arg through *argv: eggs\n",
      "another arg through *argv: test\n"
     ]
    }
   ],
   "source": [
    "# Example 2: Use asterisk for parameter\n",
    "\n",
    "def test_var_args(f_arg, *argv):\n",
    "    print(\"first normal arg:\", f_arg)\n",
    "    for arg in argv:\n",
    "        print(\"another arg through *argv:\", arg)\n",
    "\n",
    "test_var_args('yasoob', 'python', 'eggs', 'test')"
   ]
  },
  {
   "cell_type": "markdown",
   "metadata": {},
   "source": [
    "## `**` operator\n",
    "\n",
    "The \\**kwargs will give you all keyword arguments except for those corresponding to a formal parameter as **a dictionary**."
   ]
  },
  {
   "cell_type": "code",
   "execution_count": 21,
   "metadata": {},
   "outputs": [
    {
     "name": "stdout",
     "output_type": "stream",
     "text": [
      "First is 15 then 23 lastly 56.\n"
     ]
    }
   ],
   "source": [
    "# Example 1: Using **kwargs to call a function\n",
    "\n",
    "kwargs = {\"y\": 23, \"z\": 56, \"x\": 15}\n",
    "\n",
    "def foo(x, y, z):\n",
    "    print(\"First is {} then {} lastly {}.\".format(x,y,z))\n",
    "\n",
    "foo(**kwargs) # pass all the dict's entries as keyword arguments!"
   ]
  },
  {
   "cell_type": "code",
   "execution_count": 15,
   "metadata": {},
   "outputs": [
    {
     "name": "stdout",
     "output_type": "stream",
     "text": [
      "{'name': 'one', 'age': 27}\n",
      "--------------------------------------------------\n",
      "name one\n",
      "age 27\n"
     ]
    }
   ],
   "source": [
    "# Example 2: Use double asterisks for parameter\n",
    "\n",
    "def bar(**kwargs):\n",
    "    print(kwargs)\n",
    "    print(\"-\"*50)\n",
    "    \n",
    "    for a in kwargs:\n",
    "        print(a, kwargs[a])\n",
    "        \n",
    "bar(name='one', age=27)"
   ]
  },
  {
   "cell_type": "code",
   "execution_count": null,
   "metadata": {},
   "outputs": [],
   "source": []
  },
  {
   "cell_type": "code",
   "execution_count": null,
   "metadata": {},
   "outputs": [],
   "source": []
  }
 ],
 "metadata": {
  "kernelspec": {
   "display_name": "Python 3",
   "language": "python",
   "name": "python3"
  },
  "language_info": {
   "codemirror_mode": {
    "name": "ipython",
    "version": 3
   },
   "file_extension": ".py",
   "mimetype": "text/x-python",
   "name": "python",
   "nbconvert_exporter": "python",
   "pygments_lexer": "ipython3",
   "version": "3.6.3"
  }
 },
 "nbformat": 4,
 "nbformat_minor": 2
}
