{
 "cells": [
  {
   "cell_type": "markdown",
   "metadata": {},
   "source": [
    "https://jakevdp.github.io/PythonDataScienceHandbook/01.05-ipython-and-shell-commands.html\n",
    "Check this link"
   ]
  },
  {
   "cell_type": "markdown",
   "metadata": {},
   "source": [
    "## Update settings for user directories\n",
    "`xdg-user-dirs-update --set DOWNLOAD $HOME/var/downloads`\n",
    "\n",
    "\n",
    "\n",
    "## How to change Gnome-Screenhot’s default save directory\n",
    "\n",
    "If you prefer using command line, you'll be glad to know that the amount of effort required is very less - all you have to do is to run the following command:\n",
    "\n",
    "`gsettings set org.gnome.gnome-screenshot auto-save-directory \"/home/himanshu/Desktop/\"`\n"
   ]
  },
  {
   "cell_type": "markdown",
   "metadata": {},
   "source": [
    "List gnome settings: \n",
    "`gsettings list-recursively org.gnome.gnome-screenshot`\n",
    "\n",
    "\n",
    "`org.gnome.gnome-screenshot delay 0\n",
    "org.gnome.gnome-screenshot border-effect 'none'\n",
    "org.gnome.gnome-screenshot include-pointer false\n",
    "org.gnome.gnome-screenshot auto-save-directory '/home/steve/Screenshots'\n",
    "org.gnome.gnome-screenshot include-border true\n",
    "org.gnome.gnome-screenshot last-save-directory ''\n",
    "org.gnome.gnome-screenshot include-icc-profile true\n",
    "org.gnome.gnome-screenshot default-file-type 'png'\n",
    "org.gnome.gnome-screenshot take-window-shot false`"
   ]
  },
  {
   "cell_type": "code",
   "execution_count": null,
   "metadata": {},
   "outputs": [],
   "source": []
  },
  {
   "cell_type": "code",
   "execution_count": 1,
   "metadata": {},
   "outputs": [
    {
     "name": "stdout",
     "output_type": "stream",
     "text": [
      "/src\r\n"
     ]
    }
   ],
   "source": [
    "!pwd"
   ]
  },
  {
   "cell_type": "code",
   "execution_count": null,
   "metadata": {},
   "outputs": [],
   "source": []
  },
  {
   "cell_type": "code",
   "execution_count": null,
   "metadata": {},
   "outputs": [],
   "source": []
  },
  {
   "cell_type": "code",
   "execution_count": null,
   "metadata": {},
   "outputs": [],
   "source": []
  }
 ],
 "metadata": {
  "kernelspec": {
   "display_name": "Python 3",
   "language": "python",
   "name": "python3"
  },
  "language_info": {
   "codemirror_mode": {
    "name": "ipython",
    "version": 3
   },
   "file_extension": ".py",
   "mimetype": "text/x-python",
   "name": "python",
   "nbconvert_exporter": "python",
   "pygments_lexer": "ipython3",
   "version": "3.6.3"
  }
 },
 "nbformat": 4,
 "nbformat_minor": 2
}
