{
 "cells": [
  {
   "cell_type": "markdown",
   "metadata": {},
   "source": [
    "![](imgs/docker/docker-vs-vm.jpg)\n",
    "![](imgs/docker/image-container.png)\n",
    "\n",
    "\n",
    "\n",
    "\n",
    "\n",
    "![](imgs/docker/centos7_redirection.jpg)\n",
    "[resource](http://linux.vbird.org/linux_basic_train/unit08.php)\n",
    "指令執行過程的資料傳輸情況\n",
    "-i就是-interactive的縮寫，它確保了即使沒有連接到正在運行的容器，STDIN（標準輸入）也會處於打開狀態;\n",
    "-t也可以使用-tty來進行引用，在容器中啟動交互式的bashshell;"
   ]
  },
  {
   "cell_type": "code",
   "execution_count": null,
   "metadata": {},
   "outputs": [],
   "source": []
  },
  {
   "cell_type": "code",
   "execution_count": null,
   "metadata": {},
   "outputs": [],
   "source": []
  },
  {
   "cell_type": "code",
   "execution_count": null,
   "metadata": {},
   "outputs": [],
   "source": []
  }
 ],
 "metadata": {
  "kernelspec": {
   "display_name": "Python 3",
   "language": "python",
   "name": "python3"
  },
  "language_info": {
   "codemirror_mode": {
    "name": "ipython",
    "version": 3
   },
   "file_extension": ".py",
   "mimetype": "text/x-python",
   "name": "python",
   "nbconvert_exporter": "python",
   "pygments_lexer": "ipython3",
   "version": "3.6.3"
  }
 },
 "nbformat": 4,
 "nbformat_minor": 2
}
