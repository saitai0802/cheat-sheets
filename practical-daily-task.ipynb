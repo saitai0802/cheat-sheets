{
 "cells": [
  {
   "cell_type": "markdown",
   "metadata": {},
   "source": [
    "# SSH\n",
    "\n",
    "\n",
    "![](imgs/practical/types-of-encryption.png)\n",
    "## Info. for Hash\n",
    "- Hashing is used only to verify data\n",
    "- the same input will always produce the same output\n",
    "- it’s impossible to reverse it back to the original data\n",
    "\n",
    "--- \n",
    "[Generating a new SSH key pair](https://gitlab.com/help/ssh/README#generating-a-new-ssh-key-pair)\n",
    "Following best practices, you should always favor **ED25519** SSH keys, since they are more secure and have better performance over the other types.\n",
    "\n",
    "``` shell\n",
    "git config --global user.name \"你的Username\"\n",
    "git config --global user.email \"你的Email\"\n",
    "\n",
    "cd ~/.ssh\n",
    "# Check if any keys exsist?\n",
    "\n",
    "#這樣在~/.ssh就會產生id_ed25519和id_rsa.pub，id_ed25519.pub就是公開的sshkey\n",
    "ssh-keygen -t ed25519 -C \"email@example.com\"\n",
    "#Generating public/private rsa key pair.\n",
    "#Enter file in which to save the key (/Users/QbsuranAlang/.ssh/id_ed25519): (直接return / 比個名尼條key)\n",
    "#Enter passphrase (empty for no passphrase): (直接return)\n",
    "#Enter same passphrase again: (直接return)\n",
    "```\n",
    "\n",
    "## Adding ssh keys for single sign-on \n",
    "``` shell\n",
    "# Copy your public SSH key to the clipboard\n",
    "xclip -sel clip < ~/.ssh/id_ed25519.pub\n",
    " \n",
    "# Go to the host server and edit their authorized_keys\n",
    "vi ~/.ssh/authorized_keys\n",
    "\n",
    "# ========== If you have mutiple ssh keys in ~/.ssh ===================\n",
    "# Add your SSH private key to the ssh-agent.\n",
    "ssh-add ~/.ssh/id_ed25519\n",
    "```\n",
    "ssh-add adds private key identities (from your ~/.ssh directory) to the authentication agent (ssh-agent), so that the ssh agent can take care of the authentication for you, and you don’t have type in passwords at the terminal."
   ]
  },
  {
   "cell_type": "markdown",
   "metadata": {},
   "source": [
    "# Syn files to somewhere\n",
    "\n",
    "Sync stuff via \n",
    "``` shell\n",
    "rsync -av . root@123.123.123.123:Destination/of/Directory \n",
    "```"
   ]
  },
  {
   "cell_type": "code",
   "execution_count": null,
   "metadata": {},
   "outputs": [],
   "source": []
  },
  {
   "cell_type": "code",
   "execution_count": null,
   "metadata": {},
   "outputs": [],
   "source": []
  },
  {
   "cell_type": "code",
   "execution_count": null,
   "metadata": {},
   "outputs": [],
   "source": []
  },
  {
   "cell_type": "code",
   "execution_count": null,
   "metadata": {},
   "outputs": [],
   "source": []
  }
 ],
 "metadata": {
  "kernelspec": {
   "display_name": "Python 3",
   "language": "python",
   "name": "python3"
  },
  "language_info": {
   "codemirror_mode": {
    "name": "ipython",
    "version": 3
   },
   "file_extension": ".py",
   "mimetype": "text/x-python",
   "name": "python",
   "nbconvert_exporter": "python",
   "pygments_lexer": "ipython3",
   "version": "3.6.3"
  }
 },
 "nbformat": 4,
 "nbformat_minor": 2
}
