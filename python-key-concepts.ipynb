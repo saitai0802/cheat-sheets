{
 "cells": [
  {
   "cell_type": "code",
   "execution_count": null,
   "metadata": {},
   "outputs": [],
   "source": []
  },
  {
   "cell_type": "code",
   "execution_count": 1,
   "metadata": {},
   "outputs": [
    {
     "ename": "SyntaxError",
     "evalue": "invalid syntax (<ipython-input-1-1f4e513ad16d>, line 1)",
     "output_type": "error",
     "traceback": [
      "\u001b[0;36m  File \u001b[0;32m\"<ipython-input-1-1f4e513ad16d>\"\u001b[0;36m, line \u001b[0;32m1\u001b[0m\n\u001b[0;31m    https://dbader.org/blog/\u001b[0m\n\u001b[0m           ^\u001b[0m\n\u001b[0;31mSyntaxError\u001b[0m\u001b[0;31m:\u001b[0m invalid syntax\n"
     ]
    }
   ],
   "source": [
    "https://dbader.org/blog/\n",
    "    \n",
    "https://www.geeksforgeeks.org/zip-in-python/\n",
    "    \n",
    "http://book.pythontips.com/en/latest/args_and_kwargs.html"
   ]
  },
  {
   "cell_type": "code",
   "execution_count": 1,
   "metadata": {},
   "outputs": [
    {
     "name": "stdout",
     "output_type": "stream",
     "text": [
      "The Zen of Python, by Tim Peters\n",
      "\n",
      "Beautiful is better than ugly.\n",
      "Explicit is better than implicit.\n",
      "Simple is better than complex.\n",
      "Complex is better than complicated.\n",
      "Flat is better than nested.\n",
      "Sparse is better than dense.\n",
      "Readability counts.\n",
      "Special cases aren't special enough to break the rules.\n",
      "Although practicality beats purity.\n",
      "Errors should never pass silently.\n",
      "Unless explicitly silenced.\n",
      "In the face of ambiguity, refuse the temptation to guess.\n",
      "There should be one-- and preferably only one --obvious way to do it.\n",
      "Although that way may not be obvious at first unless you're Dutch.\n",
      "Now is better than never.\n",
      "Although never is often better than *right* now.\n",
      "If the implementation is hard to explain, it's a bad idea.\n",
      "If the implementation is easy to explain, it may be a good idea.\n",
      "Namespaces are one honking great idea -- let's do more of those!\n"
     ]
    }
   ],
   "source": [
    "import this"
   ]
  },
  {
   "cell_type": "markdown",
   "metadata": {},
   "source": [
    "# Data type"
   ]
  },
  {
   "cell_type": "markdown",
   "metadata": {},
   "source": [
    "# [Why do we always need to put result into list/set?](https://stackoverflow.com/questions/1303347/getting-a-map-to-return-a-list-in-python-3-x)\n",
    "\n",
    "In Python 3+, many processes that iterate over **iterables** return **iterators** themselves. In most cases, this ends up saving memory, and should make things go faster.\n",
    "\n",
    "Which means you need to pass to function like `list()` or `set()` to display or process them."
   ]
  },
  {
   "cell_type": "markdown",
   "metadata": {},
   "source": [
    "### List \n",
    "A list, in Python, stores a sequence of objects in a defined order. They allow indexing or iterating through the list. Next, lists are mutable which you can modify after creation.\n",
    "\n",
    "### Tuple\n",
    "A tuple is though similar to a list, but it’s immutable. Another semantic difference between a list and a tuple is “Tuples are heterogeneous data structures whereas the list is a homogeneous sequence.“.\n",
    "\n",
    "### Dictionary\n",
    "A dictionary is an associative array of key-value pairs. It’s unordered and requires the keys to be hashable. Search operations happen to be faster in a dictionary as they use keys for lookups."
   ]
  },
  {
   "cell_type": "code",
   "execution_count": null,
   "metadata": {},
   "outputs": [],
   "source": []
  },
  {
   "cell_type": "markdown",
   "metadata": {},
   "source": [
    "## Mutable vs Immutable\n",
    "\n",
    "Everything in Python is an object. And what every newcomer to Python should quickly learn is that all objects in Python can be either mutable or immutable.\n",
    "\n",
    "[Mutable and Immutable Objects](https://www.pythonforthelab.com/blog/mutable-and-immutable-objects/)"
   ]
  },
  {
   "cell_type": "code",
   "execution_count": 4,
   "metadata": {},
   "outputs": [
    {
     "name": "stdout",
     "output_type": "stream",
     "text": [
      "False\n"
     ]
    }
   ],
   "source": [
    "happy = True\n",
    "happy = False\n",
    "print(happy)"
   ]
  },
  {
   "cell_type": "code",
   "execution_count": null,
   "metadata": {},
   "outputs": [],
   "source": []
  },
  {
   "cell_type": "code",
   "execution_count": null,
   "metadata": {},
   "outputs": [],
   "source": []
  },
  {
   "cell_type": "code",
   "execution_count": null,
   "metadata": {},
   "outputs": [],
   "source": []
  },
  {
   "cell_type": "code",
   "execution_count": null,
   "metadata": {},
   "outputs": [],
   "source": []
  },
  {
   "cell_type": "code",
   "execution_count": null,
   "metadata": {},
   "outputs": [],
   "source": []
  },
  {
   "cell_type": "markdown",
   "metadata": {},
   "source": [
    "# Functional Programming Concepts\n",
    "\n",
    "Functional languages are declarative languages, they tell the computer what result they want. This is usually contrasted with imperative languages that tell the computer what steps to take to solve a problem. Python is usually coded in an imperative way but can use the declarative style if necessary.\n",
    "\n",
    "- **Pure Functions** - do not have side effects, that is, they do not change the state of the program. Given the same input, a pure function will always produce the same output. [Check below example](#Working-with-pure-functions-stateless)\n",
    "\n",
    "> In computer science, an operation, function or expression is said to have a **side effect** if it modifies some state variable value(s) outside its local environment, that is to say has an observable effect besides returning a value (the main effect) to the invoker of the operation. State data updated \"outside\" of the operation may be maintained \"inside\" a stateful object or a wider stateful system within which the operation is performed [wiki](https://en.wikipedia.org/wiki/Side_effect_(computer_science))\n",
    "\n",
    "- **Immutability** - data cannot be changed after it is created. Take for example creating a `List` with 3 items and storing it in a variable `my_list`. If `my_list` is immutable, you wouldn't be able to change the individual items. You would have to set `my_list` to a `new List` if you'd like to use different values.\n",
    "- **Higher Order Functions** - functions can accept other functions as parameters and functions can return new functions as output. This allows us to abstract over actions, giving us flexibility in our code's behavior.\n",
    "> - *First class functions* are functions that are treated like an object (or are assignable to a variable).\n",
    "> - *Higher order functions* are functions that take at least one first class function as a parameter.\n",
    "\n"
   ]
  },
  {
   "cell_type": "code",
   "execution_count": null,
   "metadata": {},
   "outputs": [],
   "source": []
  },
  {
   "cell_type": "code",
   "execution_count": null,
   "metadata": {},
   "outputs": [],
   "source": []
  },
  {
   "cell_type": "code",
   "execution_count": null,
   "metadata": {},
   "outputs": [],
   "source": []
  },
  {
   "cell_type": "code",
   "execution_count": null,
   "metadata": {},
   "outputs": [],
   "source": []
  },
  {
   "cell_type": "code",
   "execution_count": null,
   "metadata": {},
   "outputs": [],
   "source": []
  },
  {
   "cell_type": "code",
   "execution_count": null,
   "metadata": {},
   "outputs": [],
   "source": []
  },
  {
   "cell_type": "markdown",
   "metadata": {},
   "source": [
    "# [Embracing the Four Python Programming Styles](https://blog.newrelic.com/engineering/python-programming-styles/)\n",
    "\n",
    "There are four main Python coding styles: imperative, functional, object-oriented, and procedural. (Some people combine imperative and functional coding styles while others view them as completely separate styles.) You may or may not agree that all four forms are valid or even useful—but nevertheless Python makes them all available. Let’s take a look at the pros and cons of each approach as well as some examples.\n",
    "\n",
    "\n",
    "## A brief overview of the four Python coding styles\n",
    "1. **Functional**: Every statement is treated as *a mathematical equation* and any forms of state or mutable data are avoided. The main advantage of this approach is that it lends itself well to parallel processing because there is no state to consider. Many developers prefer this coding style for recursion and for lambda calculus. (Note that Python’s implementation of functional programming deviates from the standard—read, is impure— because it’s possible to maintain state and create side effects if you’re not careful. [If you need a pure functional programming implementation, Haskell may be a better choice](https://caiorss.github.io/Functional-Programming/haskell/Functional_Programming_Concepts.html).)\n",
    "2. **Imperative**: Computation is performed as a direct change to program state. This style is especially useful when manipulating data structures and produces elegant yet simple code. Python fully implements this paradigm.\n",
    "3. **Object-oriented**: Relies on data fields that are treated as objects and manipulated only through prescribed methods. Python doesn’t fully support this paradigm because it can’t implement features such as data hiding (encapsulation), which [many believe is a primary requirement of the object-oriented programming paradigm](http://codebetter.com/raymondlewallen/2005/07/19/4-major-principles-of-object-oriented-programming/). This coding style also favors code reuse.\n",
    "4. **Procedural**: Tasks are treated as step-by-step iterations where common tasks are placed in functions that are called as needed. This coding style favors iteration, sequencing, selection, and modularization. Python excels in implementing this particular paradigm."
   ]
  },
  {
   "cell_type": "code",
   "execution_count": null,
   "metadata": {},
   "outputs": [],
   "source": []
  },
  {
   "cell_type": "markdown",
   "metadata": {},
   "source": [
    "## [Functional vs. Imperative code](https://stackoverflow.com/questions/21895525/python-programming-functional-vs-imperative-code)\n",
    "With imperative you have to explicitly code the order of your operations. \n",
    "\n",
    "In contrast, with functional programming you are not defining the sequence but rather you are declaring what you are trying to model (this is why it is sometimes referred to as declarative style of programming)."
   ]
  },
  {
   "cell_type": "code",
   "execution_count": 9,
   "metadata": {},
   "outputs": [
    {
     "name": "stdout",
     "output_type": "stream",
     "text": [
      "15\n",
      "15\n"
     ]
    }
   ],
   "source": [
    "import functools\n",
    "my_list = [1, 2, 3, 4, 5]\n",
    "\n",
    "# ================================================\n",
    "# functional coding style\n",
    "def add_it(x, y):\n",
    "    return (x + y)\n",
    "sum = functools.reduce(add_it, my_list)\n",
    "print(sum)\n",
    "\n",
    "# ================================================\n",
    "#  imperative coding style\n",
    "sum = 0\n",
    "for x in my_list:\n",
    "    sum += x\n",
    "print(sum)\n"
   ]
  },
  {
   "cell_type": "markdown",
   "metadata": {},
   "source": [
    "## Procedural coding style\n",
    "The procedural style relies on procedure calls to create modularized code. This approach simplifies your application code by breaking it into small pieces that a developer can view easily. Even though procedural coding is an older form of application development, it’s still a viable approach for tasks that lend themselves to step-by-step execution."
   ]
  },
  {
   "cell_type": "code",
   "execution_count": 11,
   "metadata": {},
   "outputs": [
    {
     "name": "stdout",
     "output_type": "stream",
     "text": [
      "15\n"
     ]
    }
   ],
   "source": [
    "# ================================================\n",
    "#  procedural coding style\n",
    "my_list = [1, 2, 3, 4, 5]\n",
    "def do_add(any_list):\n",
    "    sum = 0\n",
    "    for x in any_list:\n",
    "        sum += x\n",
    "    return sum\n",
    "print(do_add(my_list))"
   ]
  },
  {
   "cell_type": "markdown",
   "metadata": {},
   "source": []
  },
  {
   "cell_type": "markdown",
   "metadata": {},
   "source": [
    "\n",
    "\n",
    "## [Comparing object-oriented to functional-stateful](https://www.dataquest.io/blog/introduction-functional-programming-python/)\n",
    "\n",
    "Suppose we wanted to create a line counter class that takes in a file, reads each line, then counts the total amount of lines in the file. Using a **class**, it could look something like the following:\n",
    "\n",
    "```python\n",
    "class LineCounter:\n",
    "    def __init__(self, filename):\n",
    "        self.file = open(filename, 'r')\n",
    "        self.lines = []\n",
    "\n",
    "        def read(self):\n",
    "            self.lines = [line for line in self.file]\n",
    "\n",
    "        def count(self):\n",
    "            return len(self.lines)\n",
    "            \n",
    "# example_file.txt contains 100 lines.\n",
    "lc = LineCounter('example_file.txt')\n",
    "print(lc.lines)\n",
    ">> []\n",
    "print(lc.count())\n",
    ">> 0\n",
    "\n",
    "# The lc object must read the file to set the lines property.\n",
    "lc.read()\n",
    "# The `lc.lines` property has been changed.\n",
    "# This is called changing the state of the lc object.\n",
    "print(lc.lines)\n",
    ">> [['Hello world!', ...]]\n",
    "print(lc.count())\n",
    ">> 100       \n",
    "```\n",
    "\n",
    "The ever-changing state of an object is both its blessing and curse. To understand why a changing state can be seen as a negative, we have to introduce an alternative. The alternative is to build the line counter as a series of independent functions.\n",
    "\n",
    "\n",
    "## Working with pure functions-stateless\n",
    "\n",
    "In the previous example, we were able to count the lines only with the use of functions. When we only use functions, we are applying a functional approach to programming which is, non-excitingly, called **functional programming**. The concepts behind functional programming requires functions to be **stateless**, and rely only on their given inputs to produce an output.\n",
    "\n",
    "The most important concept is, **if we don't reference any other variables outside of the function, so it is pure**.\n",
    "\n",
    "The functions that meet the above criteria are called **pure functions**. Here’s an example to highlight the difference between pure functions, and non-pure:\n",
    "\n",
    "```python\n",
    "# Create a global variable `A`.\n",
    "A = 5\n",
    "\n",
    "def impure_sum(b):\n",
    "    # Adds two numbers, but uses the global `A` variable.\n",
    "    return b + A\n",
    "\n",
    "def pure_sum(a, b):\n",
    "    # Adds two numbers, using ONLY the local function inputs.\n",
    "    return a + b\n",
    "\n",
    "print(impure_sum(6))\n",
    ">> 11\n",
    "\n",
    "print(pure_sum(4, 6))\n",
    ">> 10\n",
    "```"
   ]
  },
  {
   "cell_type": "code",
   "execution_count": null,
   "metadata": {},
   "outputs": [],
   "source": []
  },
  {
   "cell_type": "code",
   "execution_count": null,
   "metadata": {},
   "outputs": [],
   "source": []
  },
  {
   "cell_type": "code",
   "execution_count": null,
   "metadata": {},
   "outputs": [],
   "source": []
  },
  {
   "cell_type": "code",
   "execution_count": null,
   "metadata": {},
   "outputs": [],
   "source": []
  },
  {
   "cell_type": "code",
   "execution_count": null,
   "metadata": {},
   "outputs": [],
   "source": []
  },
  {
   "cell_type": "code",
   "execution_count": null,
   "metadata": {},
   "outputs": [],
   "source": []
  },
  {
   "cell_type": "markdown",
   "metadata": {},
   "source": []
  },
  {
   "cell_type": "code",
   "execution_count": null,
   "metadata": {},
   "outputs": [],
   "source": []
  },
  {
   "cell_type": "code",
   "execution_count": null,
   "metadata": {},
   "outputs": [],
   "source": []
  },
  {
   "cell_type": "markdown",
   "metadata": {},
   "source": [
    "# Decorators\n",
    "\n"
   ]
  },
  {
   "cell_type": "code",
   "execution_count": null,
   "metadata": {},
   "outputs": [],
   "source": []
  },
  {
   "cell_type": "code",
   "execution_count": null,
   "metadata": {},
   "outputs": [],
   "source": []
  },
  {
   "cell_type": "code",
   "execution_count": null,
   "metadata": {},
   "outputs": [],
   "source": []
  },
  {
   "cell_type": "code",
   "execution_count": null,
   "metadata": {},
   "outputs": [],
   "source": []
  },
  {
   "cell_type": "markdown",
   "metadata": {},
   "source": [
    "---\n",
    "\n",
    "# Zip\n",
    "\n",
    "The zip() function take iterables (can be zero or more), makes iterator that aggregates elements based on the iterables passed, and returns an iterator of tuples."
   ]
  },
  {
   "cell_type": "code",
   "execution_count": 35,
   "metadata": {},
   "outputs": [
    {
     "name": "stdout",
     "output_type": "stream",
     "text": [
      "{('Nikhil', 1, 50), ('Shambhavi', 3, 60), ('Astha', 2, 70), ('Manjeet', 4, 40)}\n",
      "[('Nikhil', 'Shambhavi', 'Astha', 'Manjeet'), (1, 3, 2, 4), (50, 60, 70, 40)]\n",
      "--------------------------------------------------\n",
      "('Nikhil', 'Shambhavi', 'Astha', 'Manjeet')\n",
      "(1, 3, 2, 4)\n",
      "(50, 60, 70, 40)\n"
     ]
    }
   ],
   "source": [
    "# Example 1\n",
    "\n",
    "# initializing lists \n",
    "name = [ \"Manjeet\", \"Nikhil\", \"Shambhavi\", \"Astha\" ] \n",
    "roll_no = [ 4, 1, 3, 2 ] \n",
    "marks = [ 40, 50, 60, 70 ] \n",
    "\n",
    "# using zip() to map values, converting map value to print as set \n",
    "mapped = set(zip(name, roll_no, marks)) \n",
    "print(mapped)\n",
    "print(list(zip(*mapped)))\n",
    "print(\"-\"*50)\n",
    "\n",
    "namz, rollz, markz = list(zip(*mapped))\n",
    "print(namz)\n",
    "print(rollz)\n",
    "print(markz)"
   ]
  },
  {
   "cell_type": "code",
   "execution_count": 26,
   "metadata": {},
   "outputs": [
    {
     "name": "stdout",
     "output_type": "stream",
     "text": [
      "Player :  Sachin     Score : 100\n",
      "Player :  Sehwag     Score : 15\n",
      "Player :  Gambhir     Score : 17\n",
      "Player :  Dravid     Score : 28\n",
      "Player :  Raina     Score : 43\n"
     ]
    }
   ],
   "source": [
    "# Example 2\n",
    "players = [ \"Sachin\", \"Sehwag\", \"Gambhir\", \"Dravid\", \"Raina\" ] \n",
    "scores = [100, 15, 17, 28, 43 ] \n",
    "\n",
    "for pl, sc in zip(players, scores): \n",
    "    print (\"Player :  %s     Score : %d\" %(pl, sc)) "
   ]
  },
  {
   "cell_type": "code",
   "execution_count": 30,
   "metadata": {
    "scrolled": true
   },
   "outputs": [
    {
     "name": "stdout",
     "output_type": "stream",
     "text": [
      "Original list is : [('Akshat', 1), ('Bro', 2), ('is', 3), ('Placed', 4)]\n",
      "Modified list is : [('Akshat', 'Bro', 'is', 'Placed'), (1, 2, 3, 4)]\n"
     ]
    }
   ],
   "source": [
    "# Example 3 - unzipping values \n",
    "# Unzipping means converting the zipped values back to the individual self as they were. \n",
    "# This is done with the help of “*” operator.\n",
    "\n",
    "# initializing list of tuples \n",
    "test_list = [('Akshat', 1), ('Bro', 2), ('is', 3), ('Placed', 4)] \n",
    "print (\"Original list is : \" + str(test_list)) \n",
    "\n",
    "# using zip() and * operator to \n",
    "# perform Unzipping \n",
    "res = list(zip(*test_list)) \n",
    "print (\"Modified list is : \" + str(res)) "
   ]
  },
  {
   "cell_type": "code",
   "execution_count": null,
   "metadata": {},
   "outputs": [],
   "source": []
  },
  {
   "cell_type": "markdown",
   "metadata": {},
   "source": [
    "# Enumerate\n",
    "Enumerate is a built-in function of Python.\n",
    "- It adds a counter to an iterable and returns it in a form of enumerate object\n",
    "- `enumerate` also accept an optional argument. The optional argument allows us to tell enumerate from where to start the index."
   ]
  },
  {
   "cell_type": "code",
   "execution_count": 5,
   "metadata": {
    "scrolled": true
   },
   "outputs": [
    {
     "name": "stdout",
     "output_type": "stream",
     "text": [
      "0 apple\n",
      "1 banana\n",
      "2 grapes\n",
      "3 pear\n",
      "--------------------------------------------------\n",
      "100 apple\n",
      "101 banana\n",
      "102 grapes\n",
      "103 pear\n",
      "--------------------------------------------------\n",
      "[(0, 'apple'), (1, 'banana'), (2, 'grapes'), (3, 'pear')]\n",
      "<enumerate object at 0x7f1ae0392dc8>\n"
     ]
    }
   ],
   "source": [
    "my_list = ['apple', 'banana', 'grapes', 'pear']\n",
    "\n",
    "for counter, value in enumerate(my_list):\n",
    "    print(counter, value)\n",
    "\n",
    "print(\"-\"*50)\n",
    "for c, value in enumerate(my_list, 100):\n",
    "    print(c, value)\n",
    "    \n",
    "print(\"-\"*50)\n",
    "print(list(enumerate(my_list)))"
   ]
  },
  {
   "cell_type": "code",
   "execution_count": null,
   "metadata": {},
   "outputs": [],
   "source": []
  },
  {
   "cell_type": "code",
   "execution_count": null,
   "metadata": {},
   "outputs": [],
   "source": []
  },
  {
   "cell_type": "code",
   "execution_count": null,
   "metadata": {},
   "outputs": [],
   "source": []
  },
  {
   "cell_type": "markdown",
   "metadata": {},
   "source": [
    "# Python Functions and Functional Programming\n",
    "\n",
    "- [Python Functions and Functional Programming](https://www.dataquest.io/blog/introduction-functional-programming-python/)\n",
    "- [pythontips](http://book.pythontips.com/en/latest/lambdas.html)\n",
    "\n",
    "**Functional programming** is all about **expressions**. We may say that the Functional programming is an **expression oriented programming**.\n",
    "\n",
    "\n",
    "Expression oriented functions of Python provides are:\n",
    "\n",
    "1. map(function_to_apply, iterable_of_elements) <-**First class function**\n",
    "2. filter(function_to_apply, iterable_of_elements) <-**First class function**\n",
    "3. reduce(function_to_apply, iterable_of_elements) <-**First class function**\n",
    "4. lambda\n",
    "5. list comprehension"
   ]
  },
  {
   "cell_type": "markdown",
   "metadata": {},
   "source": [
    "--- \n",
    "\n",
    "# Map, Filter and Reduce\n",
    "\n",
    "These are three functions which facilitate a **functional approach** to programming. These functions are all convenience features in that they can be written in Python fairly easily.\n",
    "\n",
    "** If map & filter do not appear beautiful to you then you can read about list/dict/tuple comprehensions.**\n",
    "\n",
    "## Map\n",
    "One of the common things we do with list and other sequences is applying an operation to each item and collect the result. \n",
    "\n",
    "`map(aFunction, iterableSequence))`\n",
    "\n"
   ]
  },
  {
   "cell_type": "code",
   "execution_count": 1,
   "metadata": {},
   "outputs": [],
   "source": [
    "# Pseudocode for map.\n",
    "def map(func, seq):\n",
    "    # Return `Map` object with\n",
    "    # the function applied to every\n",
    "    # element.\n",
    "    return Map(\n",
    "        func(x)\n",
    "        for x in seq\n",
    "    )"
   ]
  },
  {
   "cell_type": "markdown",
   "metadata": {},
   "source": [
    "#### Map vs for-loop\n",
    "- performance benefit: It is usually faster than a manually coded for loop. \n",
    "- Given multiple sequence arguments, it sends items taken form sequences in parallel as distinct arguments to the function. (See example 3)"
   ]
  },
  {
   "cell_type": "code",
   "execution_count": 3,
   "metadata": {},
   "outputs": [
    {
     "name": "stdout",
     "output_type": "stream",
     "text": [
      "[1, 4, 9, 16, 25]\n",
      "[1, 4, 9, 16, 25]\n"
     ]
    }
   ],
   "source": [
    "# Example 1: Classic for-loop vs Map\n",
    "\n",
    "# For loop version\n",
    "items = [1, 2, 3, 4, 5]\n",
    "squared = []\n",
    "for i in items:\n",
    "    squared.append(i**2)  \n",
    "print(squared)\n",
    "\n",
    "# Map version\n",
    "# Map allows us to implement this in a much simpler and nicer way. Here you go:\n",
    "items = [1, 2, 3, 4, 5]\n",
    "squared = list(map(lambda x: x**2, items))\n",
    "print(squared)"
   ]
  },
  {
   "cell_type": "markdown",
   "metadata": {},
   "source": [
    "Most of the times we use lambdas with map so I did the same. Instead of a list of inputs we can even have a list of functions!"
   ]
  },
  {
   "cell_type": "code",
   "execution_count": 2,
   "metadata": {},
   "outputs": [
    {
     "name": "stdout",
     "output_type": "stream",
     "text": [
      "[0, 0]\n",
      "[2, 1]\n",
      "[4, 4]\n",
      "[6, 9]\n",
      "[8, 16]\n"
     ]
    }
   ],
   "source": [
    "#Example 2: List of functions as aSequence:\n",
    "\n",
    "def multiply(x):\n",
    "    return (x*x)\n",
    "\n",
    "def add(x):\n",
    "    return (x+x)\n",
    "\n",
    "funcs = [add, multiply]\n",
    "for i in range(5):\n",
    "    value = list(map(lambda x: x(i), funcs))\n",
    "    print(value)"
   ]
  },
  {
   "cell_type": "code",
   "execution_count": 11,
   "metadata": {},
   "outputs": [
    {
     "name": "stdout",
     "output_type": "stream",
     "text": [
      "1024\n",
      "177147\n",
      "16777216\n",
      "--------------------------------------------------\n",
      "[1024, 177147, 16777216]\n",
      "<map object at 0x7fbb9c649278>\n"
     ]
    }
   ],
   "source": [
    "# Example 3: pow function takes two arguments on each call.\n",
    "\n",
    "# We need to create a for loop to do such task\n",
    "print(pow(2,10))\n",
    "print(pow(3,11))\n",
    "print(pow(4,12))\n",
    "print(\"-\"*50)\n",
    "\n",
    "# We can actually use map to input the pair of parameters\n",
    "print(list(map(pow, [2, 3, 4], [10, 11, 12])))\n",
    "\n",
    "\"\"\"\n",
    "If function is None, the identity function is assumed; \n",
    "if there are multiple arguments, map() returns a list consisting of tuples \n",
    "containing the corresponding items from all iterables\n",
    "\"\"\"\n",
    "print(map(None, [2, 3, 4], [10, 11, 12]))"
   ]
  },
  {
   "cell_type": "markdown",
   "metadata": {},
   "source": [
    "## Filter\n",
    "\n",
    "As the name suggests, filter creates a list of elements for which a function returns **true**. The filter resembles a for loop but it is a builtin function and faster.\n",
    "\n",
    "`filtered = filter(fun, sequence) `"
   ]
  },
  {
   "cell_type": "code",
   "execution_count": 3,
   "metadata": {},
   "outputs": [],
   "source": [
    "# Pseudocode for filter.\n",
    "def filter(evaluate, seq):\n",
    "    # Return `Map` object with\n",
    "    # the evaluate function applied to every\n",
    "    # element.\n",
    "    return Map(\n",
    "        x for x in seq\n",
    "        if evaluate(x) is True\n",
    "    )"
   ]
  },
  {
   "cell_type": "code",
   "execution_count": 1,
   "metadata": {},
   "outputs": [
    {
     "name": "stdout",
     "output_type": "stream",
     "text": [
      "[-5, -4, -3, -2, -1, 0, 1, 2, 3, 4]\n",
      "[-5, -4, -3, -2, -1]\n"
     ]
    }
   ],
   "source": [
    "# Example 1:\n",
    "\n",
    "number_list = range(-5, 5)\n",
    "print(list(number_list))\n",
    "\n",
    "less_than_zero = list(filter(lambda x: x < 0, number_list))\n",
    "print(less_than_zero)"
   ]
  },
  {
   "cell_type": "code",
   "execution_count": 3,
   "metadata": {},
   "outputs": [
    {
     "name": "stdout",
     "output_type": "stream",
     "text": [
      "[2, 3, 5, 7]\n"
     ]
    }
   ],
   "source": [
    "# Example 2: finding intersection of two lists by using filter()\n",
    "\n",
    "a = [1,2,3,5,7,9]\n",
    "b = [2,3,5,6,7,8]\n",
    "\n",
    "# Step 1: x equals an item from list b\n",
    "# Step 2: check item x is in a list.\n",
    "print(list(filter(lambda x: x in a, b))) "
   ]
  },
  {
   "cell_type": "markdown",
   "metadata": {},
   "source": [
    "## Reduce\n",
    "\n",
    "The `reduce()` function takes in an iterable, and then reduces the iterable to a single value. Reduce is different from `filter()` and `map()`, because `reduce()` takes in a function that has two input values.\n",
    "\n",
    "EG: `lambda x, y: x * y`\n",
    "\n",
    "![s5_reduce_function](imgs/python/s5_reduce_function.png)"
   ]
  },
  {
   "cell_type": "code",
   "execution_count": 5,
   "metadata": {},
   "outputs": [
    {
     "name": "stdout",
     "output_type": "stream",
     "text": [
      "24\n",
      "24\n"
     ]
    }
   ],
   "source": [
    "# Example 1: For-loop vs Reduce\n",
    "\n",
    "from functools import reduce\n",
    "\n",
    "product = 1\n",
    "list = [1, 2, 3, 4]\n",
    "\n",
    "for num in list:\n",
    "    product = product * num \n",
    "print(product)\n",
    "\n",
    "# Now let's try it with reduce:\n",
    "# reduce() call is much more concise and performs significantly better than the for loop.\n",
    "product = reduce((lambda x, y: x * y), [1, 2, 3, 4])\n",
    "print(product) # (((1 * 2) * 3) * 4) => 24"
   ]
  },
  {
   "cell_type": "markdown",
   "metadata": {},
   "source": [
    "At each step, reduce passes the current product or division, along with the next item from the list, to the passed-in lambda function. By default, *the **first item** in the sequence initialized the starting value*.\n",
    "\n",
    "An interesting note to make is that you do not have to operate on the second value in the lambda expression. For example, you can write a function that always returns the first value of an iterable:"
   ]
  },
  {
   "cell_type": "code",
   "execution_count": 6,
   "metadata": {},
   "outputs": [
    {
     "name": "stdout",
     "output_type": "stream",
     "text": [
      "1\n"
     ]
    }
   ],
   "source": [
    "# By convention, we add `_` as a placeholder for an input\n",
    "# we do not use.\n",
    "first_value = reduce(lambda a, _: a, list)\n",
    "print(first_value)"
   ]
  },
  {
   "cell_type": "markdown",
   "metadata": {},
   "source": [
    "--- \n",
    "\n",
    "# Lambdas\n",
    "Lambdas are one line functions. They are also known as **anonymous functions**, if we didn’t assign lambda to a variable name. You might want to use lambdas when you don’t want to use a function twice in a program. They are just like normal functions and even behave like them.\n",
    "\n",
    "`lambda argument: manipulate(argument)`"
   ]
  },
  {
   "cell_type": "code",
   "execution_count": 1,
   "metadata": {},
   "outputs": [
    {
     "name": "stdout",
     "output_type": "stream",
     "text": [
      "8\n"
     ]
    }
   ],
   "source": [
    "# Example 1:\n",
    "add = lambda x, y: x + y\n",
    "\n",
    "print(add(3, 5))\n",
    "# Output: 8"
   ]
  },
  {
   "cell_type": "code",
   "execution_count": 2,
   "metadata": {},
   "outputs": [
    {
     "name": "stdout",
     "output_type": "stream",
     "text": [
      "[(13, -3), (4, 1), (1, 2), (9, 10)]\n"
     ]
    }
   ],
   "source": [
    "# Example 2: List sorting\n",
    "a = [(1, 2), (4, 1), (9, 10), (13, -3)]\n",
    "a.sort(key=lambda x: x[1])\n",
    "\n",
    "print(a)\n",
    "# Output: [(13, -3), (4, 1), (1, 2), (9, 10)]"
   ]
  },
  {
   "cell_type": "code",
   "execution_count": null,
   "metadata": {},
   "outputs": [],
   "source": []
  },
  {
   "cell_type": "code",
   "execution_count": null,
   "metadata": {},
   "outputs": [],
   "source": []
  },
  {
   "cell_type": "code",
   "execution_count": null,
   "metadata": {},
   "outputs": [],
   "source": []
  },
  {
   "cell_type": "code",
   "execution_count": null,
   "metadata": {},
   "outputs": [],
   "source": []
  },
  {
   "cell_type": "code",
   "execution_count": null,
   "metadata": {},
   "outputs": [],
   "source": []
  },
  {
   "cell_type": "code",
   "execution_count": null,
   "metadata": {},
   "outputs": [],
   "source": []
  },
  {
   "cell_type": "code",
   "execution_count": null,
   "metadata": {},
   "outputs": [],
   "source": []
  },
  {
   "cell_type": "markdown",
   "metadata": {},
   "source": [
    "# Comprehensions\n",
    "\n",
    "Comprehensions are constructs that allow sequences to be built from other sequences. Several types of comprehensions are supported:\n",
    "\n",
    "- list comprehensions\n",
    "- dictionary comprehensions\n",
    "- set comprehensions\n",
    "- generator comprehensions\n",
    "\n",
    "## Notes:\n",
    "- Comprehensions are a key feature in Python. Understanding and applying them will make your code much more Pythonic.\n",
    "- Comprehensions are just fancy syntax for a simple for-loop pattern. Once you understand the pattern, you’ll develop an intuitive understanding for comprehensions.\n",
    "\n",
    "### Rewriting with list comprehensions\n",
    "Because we eventually convert to lists, we should rewrite the `map()` and `filter()` functions using list comprehension instead. This is the more pythonic way of writing them, as we are taking advantage of the Python syntax for making lists. Here’s how you could translate the previous examples of `map()` and `filter()` to list comprehensions:"
   ]
  },
  {
   "cell_type": "code",
   "execution_count": 8,
   "metadata": {},
   "outputs": [
    {
     "name": "stdout",
     "output_type": "stream",
     "text": [
      "[11, 12, 13, 14, 15, 16, 17, 18, 19, 20]\n",
      "[2, 4, 6, 8, 10]\n"
     ]
    }
   ],
   "source": [
    "values = [1, 2, 3, 4, 5, 6, 7, 8, 9, 10]\n",
    "\n",
    "# Map.\n",
    "add_10 = [x + 10 for x in values]\n",
    "print(add_10)\n",
    "\n",
    "# Filter.\n",
    "even = [x for x in values if x % 2 == 0]\n",
    "print(even)"
   ]
  },
  {
   "cell_type": "markdown",
   "metadata": {},
   "source": [
    "## `list` comprehensions\n",
    "\n",
    "List comprehensions provide a short and concise way to create lists. It consists of square brackets containing an expression followed by a `for` clause, then zero or more `for` or `if` clauses. \n",
    "\n",
    "This can be really useful to make lists quickly. It is even preferred by some instead of the `filter` function. List comprehensions really shine when you want to supply a list to a method or function to make a new list by appending to it in each iteration of the `for` loop. "
   ]
  },
  {
   "cell_type": "code",
   "execution_count": 8,
   "metadata": {},
   "outputs": [
    {
     "name": "stdout",
     "output_type": "stream",
     "text": [
      "[0, 3, 6, 9, 12, 15, 18, 21, 24, 27]\n"
     ]
    }
   ],
   "source": [
    "multiples = [i for i in range(30) if i % 3 == 0]\n",
    "print(multiples)"
   ]
  },
  {
   "cell_type": "code",
   "execution_count": 10,
   "metadata": {},
   "outputs": [
    {
     "name": "stdout",
     "output_type": "stream",
     "text": [
      "[0, 1, 4, 9, 16, 25, 36, 49, 64, 81]\n",
      "[0, 1, 4, 9, 16, 25, 36, 49, 64, 81]\n"
     ]
    }
   ],
   "source": [
    "squared = []\n",
    "for x in range(10):\n",
    "    squared.append(x**2)\n",
    "print(squared)\n",
    "    \n",
    "# You can simplify it using list comprehensions. For example:    \n",
    "squared = [x**2 for x in range(10)]\n",
    "print(squared)"
   ]
  },
  {
   "cell_type": "markdown",
   "metadata": {},
   "source": [
    "## `dict` comprehensions\n",
    "\n",
    "They are used in a similar way. Here is an example which I found recently:"
   ]
  },
  {
   "cell_type": "code",
   "execution_count": 15,
   "metadata": {},
   "outputs": [
    {
     "name": "stdout",
     "output_type": "stream",
     "text": [
      "{'a': 17, 'b': 34, 'z': 3}\n"
     ]
    }
   ],
   "source": [
    "mcase = {'a': 10, 'b': 34, 'A': 7, 'Z': 3}\n",
    "\n",
    "mcase_frequency = {\n",
    "    # k.lower(): a, b, z\n",
    "    k.lower(): mcase.get(k.lower(), 0) + mcase.get(k.upper(), 0)\n",
    "    for k in mcase.keys()\n",
    "}\n",
    "\n",
    "print(mcase_frequency)"
   ]
  },
  {
   "cell_type": "markdown",
   "metadata": {},
   "source": [
    "In the above example we are combining the values of keys which are same but in different typecase. **I personally do not use `dict` comprehensions a lot**. You can also quickly switch keys and values of a dictionary:"
   ]
  },
  {
   "cell_type": "code",
   "execution_count": 17,
   "metadata": {},
   "outputs": [
    {
     "data": {
      "text/plain": [
       "{10: 'a', 34: 'b', 7: 'A', 3: 'Z'}"
      ]
     },
     "execution_count": 17,
     "metadata": {},
     "output_type": "execute_result"
    }
   ],
   "source": [
    "{v: k for k, v in mcase.items()}"
   ]
  },
  {
   "cell_type": "markdown",
   "metadata": {},
   "source": [
    "## `set` comprehensions\n",
    "\n",
    "They are also similar to list comprehensions. The only difference is that they use braces `{}`. Here is an example:"
   ]
  },
  {
   "cell_type": "code",
   "execution_count": 18,
   "metadata": {},
   "outputs": [
    {
     "name": "stdout",
     "output_type": "stream",
     "text": [
      "{1, 4}\n"
     ]
    }
   ],
   "source": [
    "squared = {x**2 for x in [1, 1, 2]}\n",
    "print(squared)"
   ]
  },
  {
   "cell_type": "markdown",
   "metadata": {},
   "source": [
    "## `generator` comprehensions\n",
    "\n",
    "They are also similar to list comprehensions. The only difference is that they don't allocate memory for the whole list but generate one item at a time, thus more memory efficient."
   ]
  },
  {
   "cell_type": "code",
   "execution_count": 20,
   "metadata": {},
   "outputs": [
    {
     "name": "stdout",
     "output_type": "stream",
     "text": [
      "<generator object <genexpr> at 0x7fb4d02e5ba0>\n",
      "0\n",
      "3\n",
      "6\n",
      "9\n",
      "12\n",
      "15\n",
      "18\n",
      "21\n",
      "24\n",
      "27\n"
     ]
    }
   ],
   "source": [
    "multiples_gen = (i for i in range(30) if i % 3 == 0)\n",
    "print(multiples_gen)\n",
    "\n",
    "for x in multiples_gen:\n",
    "    print(x)"
   ]
  },
  {
   "cell_type": "code",
   "execution_count": null,
   "metadata": {},
   "outputs": [],
   "source": []
  },
  {
   "cell_type": "code",
   "execution_count": null,
   "metadata": {},
   "outputs": [],
   "source": []
  },
  {
   "cell_type": "code",
   "execution_count": null,
   "metadata": {},
   "outputs": [],
   "source": []
  },
  {
   "cell_type": "markdown",
   "metadata": {},
   "source": [
    "--- \n",
    "\n",
    "# Python Iterators\n",
    "\n",
    "First lets understand iterators. According to Wikipedia, an iterator is an object that enables a programmer to traverse a container, particularly lists. However, an iterator performs traversal and gives access to data elements in a container, but does not perform iteration. You might be confused so lets take it a bit slow. There are three parts namely:\n",
    "\n",
    "- **Iterable**: An iterable is any object in Python which has an __iter__ or a __getitem__ method defined which returns an iterator or can take indexes (You can read more about them [here](https://stackoverflow.com/a/20551346)). In short an iterable is any object which can provide us with an iterator.\n",
    "- **Iterator**: An iterator is any object in Python which has a next (Python2) or __next__ method defined. \n",
    "- **Iteration**: In simple words it is the process of taking an item from something e.g a list. When we use a loop to loop over something it is called iteration. \n",
    "\n",
    "**Summary:** \n",
    "- Iterators provide a sequence interface to Python objects that’s memory efficient and considered Pythonic. \n",
    "- To support iteration an object needs to implement the iterator protocol by providing the __iter__ and __next__ dunder methods.\n",
    "- Class-based iterators are only one way to write iterable objects in Python. Also consider generators and generator expressions."
   ]
  },
  {
   "cell_type": "markdown",
   "metadata": {},
   "source": [
    "## Difference Between Iterable and Iterator\n",
    "It will be easier to understand the concept of generators if you get the idea of iterables and iterators.\n",
    "\n",
    "Iterable is a “sequence” of data, you can iterate over using a loop. The easiest visible example of iterable can be a list of integers – [1, 2, 3, 4, 5, 6, 7]. However, it’s possible to iterate over other types of data like strings, dicts, tuples, sets, etc.\n",
    "\n",
    "Basically, any object that has `iter()` method can be used as an iterable. You can check it using `hasattr()` function in the interpreter."
   ]
  },
  {
   "cell_type": "markdown",
   "metadata": {},
   "source": [
    "Iterator protocol is implemented whenever you iterate over a sequence of data. For example, when you use a for loop the following is happening on a background:\n",
    "\n",
    "- first **iter()** method is called on the object to converts it to an iterator object.\n",
    "- **next()** method is called on the iterator object to get the next element of the sequence.\n",
    "- **StopIteration** exception is raised when there are no elements left to call.\n",
    "\n",
    "\n",
    "\n",
    "```python\n",
    "<iter> = iter(<collection>)                 # `iter(<iter>)` returns unmodified iterator.\n",
    "<iter> = iter(<function>, to_exclusive)     # Sequence of return values until 'to_exclusive'.\n",
    "<el>   = next(<iter> [, default])           # Raises StopIteration or returns 'default' on end.\n",
    "```\n",
    "\n",
    "As we can see that after yielding all the values `next()` caused a `StopIteration` error. Basically this error informs us that all the values have been yielded. You might be wondering that why don't we get this error while using a `for` loop? Well the answer is simple. The `for` loop automatically catches this error and stops calling `next`."
   ]
  },
  {
   "cell_type": "code",
   "execution_count": 7,
   "metadata": {},
   "outputs": [
    {
     "name": "stdout",
     "output_type": "stream",
     "text": [
      "<list_iterator object at 0x7fde153b85c0>\n",
      "1\n",
      "2\n",
      "3\n"
     ]
    },
    {
     "ename": "StopIteration",
     "evalue": "",
     "output_type": "error",
     "traceback": [
      "\u001b[0;31m---------------------------------------------------------------------------\u001b[0m",
      "\u001b[0;31mStopIteration\u001b[0m                             Traceback (most recent call last)",
      "\u001b[0;32m<ipython-input-7-8b8dd0adcc73>\u001b[0m in \u001b[0;36m<module>\u001b[0;34m()\u001b[0m\n\u001b[1;32m      5\u001b[0m \u001b[0mprint\u001b[0m\u001b[0;34m(\u001b[0m\u001b[0mnext\u001b[0m\u001b[0;34m(\u001b[0m\u001b[0mmy_iterator\u001b[0m\u001b[0;34m)\u001b[0m\u001b[0;34m)\u001b[0m\u001b[0;34m\u001b[0m\u001b[0m\n\u001b[1;32m      6\u001b[0m \u001b[0mprint\u001b[0m\u001b[0;34m(\u001b[0m\u001b[0mnext\u001b[0m\u001b[0;34m(\u001b[0m\u001b[0mmy_iterator\u001b[0m\u001b[0;34m)\u001b[0m\u001b[0;34m)\u001b[0m\u001b[0;34m\u001b[0m\u001b[0m\n\u001b[0;32m----> 7\u001b[0;31m \u001b[0mprint\u001b[0m\u001b[0;34m(\u001b[0m\u001b[0mnext\u001b[0m\u001b[0;34m(\u001b[0m\u001b[0mmy_iterator\u001b[0m\u001b[0;34m)\u001b[0m\u001b[0;34m)\u001b[0m\u001b[0;34m\u001b[0m\u001b[0m\n\u001b[0m",
      "\u001b[0;31mStopIteration\u001b[0m: "
     ]
    }
   ],
   "source": [
    "simple_list = [1, 2, 3]\n",
    "my_iterator = iter(simple_list)\n",
    "print(my_iterator)\n",
    "print(next(my_iterator))\n",
    "print(next(my_iterator))\n",
    "print(next(my_iterator))\n",
    "print(next(my_iterator))"
   ]
  },
  {
   "cell_type": "markdown",
   "metadata": {},
   "source": [
    "Basically, any object that has iter() method can be used as an iterable. You can check it using hasattr()function in the interpreter."
   ]
  },
  {
   "cell_type": "code",
   "execution_count": 7,
   "metadata": {
    "scrolled": true
   },
   "outputs": [
    {
     "name": "stdout",
     "output_type": "stream",
     "text": [
      "True\n",
      "True\n",
      "False\n"
     ]
    }
   ],
   "source": [
    "print(hasattr(str, '__iter__'))\n",
    "print(hasattr(list, '__iter__'))\n",
    "print(hasattr(bool, '__iter__'))"
   ]
  },
  {
   "cell_type": "markdown",
   "metadata": {},
   "source": [
    "## Understand how  Python’s elegant loop constructs work behind the scenes\n",
    "\n",
    "### Version 1: two separate classes\n",
    "In this approach, we first setting up and retrieving the iterator object with an iter() call, and then repeatedly fetching values from it via next().\n",
    "\n",
    "> Python offers these facades for other functionality as well. For example, len(x) is a shortcut for calling x.__len__. Similarly, calling iter(x) invokes x.__iter__ and calling next(x) invokes x.__next__.\n",
    "\n",
    "#### Repeater\n",
    "- Repeater looks like a bog-standard Python class. But notice how it also includes the __iter__ dunder method.\n",
    "- What’s the RepeaterIterator object we’re creating and returning from  __iter__? It’s a helper class we also need to define for our for-in iteration example to work:\n",
    "\n",
    "#### RepeaterIterator\n",
    "1. In the __init__ method we link each RepeaterIterator instance to the  Repeater object that created it. That way we can hold on to the “source” object that’s being iterated over.\n",
    "\n",
    "2. In RepeaterIterator.__next__, we reach back into the “source” Repeater instance and return the value associated with it. \n",
    "\n",
    "In this code example, Repeater and RepeaterIterator are working together to support Python’s iterator protocol. The two dunder methods we defined,  __iter__ and __next__, are the key to making a Python object iterable."
   ]
  },
  {
   "cell_type": "code",
   "execution_count": 44,
   "metadata": {},
   "outputs": [
    {
     "name": "stdout",
     "output_type": "stream",
     "text": [
      "1\n",
      "2\n",
      "3\n",
      "4\n",
      "5\n",
      "--------------------------------------------------\n",
      "1\n",
      "2\n",
      "3\n",
      "4\n",
      "5\n"
     ]
    }
   ],
   "source": [
    "class Repeater:\n",
    "    def __init__(self, value):\n",
    "        self.value = value\n",
    "\n",
    "    def __iter__(self): # Can be invoked by Repeater.__iter__() / iter(Repeater)\n",
    "        return RepeaterIterator(self)\n",
    "\n",
    "class RepeaterIterator:\n",
    "    def __init__(self, source):\n",
    "        self.source = source\n",
    "\n",
    "    def __next__(self): # Can be invoked by RepeaterIterator.__next__() / next(RepeaterIterator)\n",
    "        self.source.value += 1\n",
    "        return self.source.value \n",
    "\n",
    "    \n",
    "# for loop version\n",
    "repeater = Repeater(0)\n",
    "for item in repeater:\n",
    "    print(item)\n",
    "    if item == 5:\n",
    "        break;\n",
    "\n",
    "print(\"-\"*50)\n",
    "# While loop version\n",
    "repeater = Repeater(0)\n",
    "iterator = repeater.__iter__()\n",
    "while True:\n",
    "    item = iterator.__next__()\n",
    "    print(item)\n",
    "    \n",
    "    if item == 5:\n",
    "        break;"
   ]
  },
  {
   "cell_type": "markdown",
   "metadata": {},
   "source": [
    "#### Version 2: Only one class\n",
    "Above iterator example consisted of two separate classes, Repeater and RepeaterIterator, but many times both of these responsibilities can be shouldered by a single class. Doing this allows you to reduce the amount of code necessary to write a class-based iterator.\n",
    "\n",
    "We needed it to host the __next__ method for fetching new values from the iterator. But it doesn’t really matter where __next__ is defined. In the iterator protocol, all that matters is that __iter__ returns any object with a __next__ method on it.\n",
    "\n",
    "Streamlining a class-based iterator like that often makes sense. In fact, most Python iterator tutorials start out that way. "
   ]
  },
  {
   "cell_type": "code",
   "execution_count": 5,
   "metadata": {},
   "outputs": [
    {
     "name": "stdout",
     "output_type": "stream",
     "text": [
      "1\n",
      "2\n",
      "3\n",
      "4\n",
      "5\n"
     ]
    }
   ],
   "source": [
    "class Repeater:\n",
    "    def __init__(self, value, max_repeats):\n",
    "        self.value = value\n",
    "        self.max_repeats = max_repeats\n",
    "        self.count = 0\n",
    "\n",
    "    def __iter__(self):  # Can be invoked by Repeater.__iter__() / iter(Repeater)\n",
    "        return self\n",
    "\n",
    "    def __next__(self): # Can be invoked by RepeaterIterator.__next__() / next(RepeaterIterator)\n",
    "        self.value += 1\n",
    "        if self.value > self.max_repeats:\n",
    "            raise StopIteration\n",
    "        self.count += 1\n",
    "        return self.value\n",
    "    \n",
    "repeater = Repeater(0, 5)\n",
    "for item in repeater:\n",
    "    print(item)"
   ]
  },
  {
   "cell_type": "markdown",
   "metadata": {},
   "source": [
    "If we rewrite this last for-in loop example to take away some of the syntactic sugar, we end up with the following expanded code snippet:"
   ]
  },
  {
   "cell_type": "code",
   "execution_count": 8,
   "metadata": {},
   "outputs": [
    {
     "name": "stdout",
     "output_type": "stream",
     "text": [
      "1\n",
      "2\n",
      "3\n",
      "4\n",
      "5\n"
     ]
    }
   ],
   "source": [
    "repeater = Repeater(0, 5)\n",
    "iterator = iter(repeater)\n",
    "while True:\n",
    "    try:\n",
    "        item = next(iterator)\n",
    "    except StopIteration:\n",
    "        break\n",
    "    print(item)"
   ]
  },
  {
   "cell_type": "code",
   "execution_count": null,
   "metadata": {},
   "outputs": [],
   "source": []
  },
  {
   "cell_type": "code",
   "execution_count": null,
   "metadata": {},
   "outputs": [],
   "source": []
  },
  {
   "cell_type": "code",
   "execution_count": null,
   "metadata": {},
   "outputs": [],
   "source": []
  },
  {
   "cell_type": "code",
   "execution_count": null,
   "metadata": {},
   "outputs": [],
   "source": []
  },
  {
   "cell_type": "markdown",
   "metadata": {},
   "source": [
    "# Generators\n",
    "\n",
    "Generators are iterators, but you can only iterate over them once. It’s because they do not store all the values in memory, they **generate the values on the fly**. You use them by iterating over them, either with a 'for' loop or by passing them to any function or construct that iterates. Most of the time `generators` are implemented as functions. However, they do not `return` a value, they `yield` it. \n",
    "\n",
    "## 3 Types of Generators - Pythonic Syntactic Sugar!\n",
    "As I learned more about Python’s iterator protocol and the different ways to implement it in my own code, I realized that “[syntactic sugar](https://en.wikipedia.org/wiki/Syntactic_sugar)” was a recurring theme.\n",
    "\n",
    "You see, class-based iterators and generator functions are two expressions of the same underlying design pattern.\n",
    "\n",
    "Generator functions give you a shortcut for supporting the iterator protocol in your own code, and they avoid much of the verbosity of class-based iterators. With a little bit of specialized syntax, or syntactic sugar, they save you time and make your life as a developer easier:\n",
    "\n",
    "![3types of generations](imgs/python/iterators-syntactic-sweetness.png)\n",
    "[Source from dbader](https://dbader.org/blog/python-generator-expressions)\n",
    "\n",
    "This is a recurring theme in Python and in other programming languages. As more developers use a design pattern in their programs, there’s a growing incentive for the language creators to provide abstractions and implementation shortcuts for it.\n",
    "\n",
    "That’s how programming languages evolve over time—and as developers, we reap the benefits. We get to work with more and more powerful building blocks, which reduces busywork and lets us achieve more in less time.\n",
    "\n",
    "\n",
    "## Generator class\n"
   ]
  },
  {
   "cell_type": "code",
   "execution_count": 23,
   "metadata": {},
   "outputs": [
    {
     "name": "stdout",
     "output_type": "stream",
     "text": [
      "0\n",
      "1\n",
      "2\n",
      "3\n",
      "4\n"
     ]
    }
   ],
   "source": [
    "class BoundedRepeater:\n",
    "    def __init__(self, max_repeats):\n",
    "        self.max_repeats = max_repeats\n",
    "        self.count = -1\n",
    "\n",
    "    def __iter__(self):\n",
    "        return self\n",
    "\n",
    "    def __next__(self):\n",
    "        if self.count >= self.max_repeats:\n",
    "            raise StopIteration\n",
    "        self.count += 1\n",
    "        return self.count\n",
    "\n",
    "        \n",
    "generator_class = BoundedRepeater(4)\n",
    "for x in generator_class:\n",
    "    print(x)"
   ]
  },
  {
   "cell_type": "markdown",
   "metadata": {},
   "source": [
    "If you’re thinking, “that’s quite a lot of code for such a simple iterator,” you’re absolutely right. Parts of this class seem rather formulaic, as if they would be written in exactly the same way from one class-based iterator to the next.\n",
    "\n",
    "You’ll find that for most types of iterators, writing a generator function will be easier and more readable than defining a long-winded class-based iterator.\n",
    "\n",
    "## Generator function\n",
    "\n",
    "- Generator functions are syntactic sugar for writing objects that support the iterator protocol. Generators abstract away much of the boilerplate code needed when writing class-based iterators. \n",
    "- The `yield` statement allows you to temporarily suspend execution of a generator function and to pass back values from it."
   ]
  },
  {
   "cell_type": "code",
   "execution_count": 24,
   "metadata": {},
   "outputs": [
    {
     "name": "stdout",
     "output_type": "stream",
     "text": [
      "0\n",
      "1\n",
      "2\n",
      "3\n",
      "4\n"
     ]
    }
   ],
   "source": [
    "def generator_function(max_repeats):\n",
    "    for i in range(max_repeats):\n",
    "        yield i\n",
    "\n",
    "for item in generator_function(5):\n",
    "    print(item)"
   ]
  },
  {
   "cell_type": "markdown",
   "metadata": {},
   "source": [
    "It is not really useful in this case. Generators are best for calculating large sets of results (particularly calculations involving loops themselves) where you don't want to allocate the memory for all results at the same time. Many Standard Library functions that return lists in Python 2 have been modified to return generators in Python 3 because **generators require fewer resources**."
   ]
  },
  {
   "cell_type": "markdown",
   "metadata": {},
   "source": [
    "## Generator Expressions\n",
    "\n",
    "In Python, generators provide a convenient way to implement the iterator protocol. Generator is an iterable created using a function with a yield statement.\n",
    "\n",
    "- The main feature of generator is evaluating the elements on demand. \n",
    "When you call a normal function with a return statement the function is terminated whenever it encounters a return statement. \n",
    "- In a function with a yield statement the state of the function is “saved” from the last call and can be picked up the next time you call a generator function.\n",
    "- **Once a generator expression has been consumed, it can’t be restarted or reused.** Pointer指去邊到就會停係個到。"
   ]
  },
  {
   "cell_type": "markdown",
   "metadata": {},
   "source": [
    "**Generator expression** allows creating a generator on a fly without a `yield` keyword. However, it doesn’t share the whole power of generator created with a yield function. Generator expressions are best for implementing simple “ad hoc” iterators. For complex iterators, it’s better to write a generator function or a class-based iterator.\n",
    "\n",
    "The syntax and concept is similar to list comprehensions:"
   ]
  },
  {
   "cell_type": "code",
   "execution_count": 9,
   "metadata": {},
   "outputs": [
    {
     "name": "stdout",
     "output_type": "stream",
     "text": [
      "0\n",
      "4\n",
      "16\n",
      "36\n",
      "64\n"
     ]
    }
   ],
   "source": [
    "gen_exp = (x ** 2 for x in range(10) if x % 2 == 0)\n",
    "for x in gen_exp:\n",
    "    print(x)"
   ]
  },
  {
   "cell_type": "markdown",
   "metadata": {},
   "source": [
    "## Generator Expressions vs List Comprehensions\n",
    "In terms of syntax, the only difference is that you use parentheses instead of square brackets. However, the **type of data** returned by **list comprehensions** and **generator expressions** differs. The main advantage of generator over a list is that it takes much less memory. We can check how much memory is taken by both types using **sys.getsizeof()** method.\n",
    "\n",
    "We can see this difference from below example because while `list` creating Python reserves memory for the whole list and calculates it on the spot. \n",
    "\n",
    "### Generator calculates on the fly, so it is smaller.\n",
    "In case of generator, we receive only ”algorithm”/ “instructions” how to calculate that Python stores. And each time we call for generator, it will only “generate” the next element of the sequence on demand according to “instructions”.\n",
    "\n",
    "### Generator calculates on the fly, so it is slower\n",
    "On the other hand, generator will be slower, as every time the element of sequence is calculated and yielded, function context/state has to be saved to be picked up next time for generating next value. That “saving and loading function context/state” takes time."
   ]
  },
  {
   "cell_type": "code",
   "execution_count": 4,
   "metadata": {},
   "outputs": [
    {
     "name": "stdout",
     "output_type": "stream",
     "text": [
      "[0, 4, 16, 36, 64]\n",
      "128\n",
      "========================================\n",
      "<generator object <genexpr> at 0x7fec64539a98>\n",
      "88\n",
      "----------------------------------------\n",
      "0\n",
      "4\n",
      "16\n",
      "36\n",
      "[64]\n"
     ]
    }
   ],
   "source": [
    "from sys import getsizeof\n",
    "\n",
    "list_comp = [x ** 2 for x in range(10) if x % 2 == 0]\n",
    "gen_exp = (x ** 2 for x in range(10) if x % 2 == 0)\n",
    "\n",
    "print(list_comp)\n",
    "print(getsizeof(list_comp))\n",
    "print(\"=\"*40)\n",
    "\n",
    "print(gen_exp)\n",
    "print(getsizeof(gen_exp))\n",
    "\n",
    "print(\"-\"*40)\n",
    "print(next(gen_exp))\n",
    "print(next(gen_exp))\n",
    "print(next(gen_exp))\n",
    "\n",
    "# Alternatively, you can also call the list() function on a generator expression \n",
    "# to construct a list object holding all generated values:\n",
    "print(list(gen_exp))"
   ]
  },
  {
   "cell_type": "code",
   "execution_count": null,
   "metadata": {},
   "outputs": [],
   "source": []
  },
  {
   "cell_type": "code",
   "execution_count": null,
   "metadata": {},
   "outputs": [],
   "source": []
  },
  {
   "cell_type": "code",
   "execution_count": null,
   "metadata": {},
   "outputs": [],
   "source": []
  },
  {
   "cell_type": "code",
   "execution_count": null,
   "metadata": {},
   "outputs": [],
   "source": []
  },
  {
   "cell_type": "code",
   "execution_count": null,
   "metadata": {},
   "outputs": [],
   "source": []
  },
  {
   "cell_type": "code",
   "execution_count": null,
   "metadata": {},
   "outputs": [],
   "source": []
  },
  {
   "cell_type": "code",
   "execution_count": null,
   "metadata": {},
   "outputs": [],
   "source": []
  },
  {
   "cell_type": "code",
   "execution_count": null,
   "metadata": {},
   "outputs": [],
   "source": []
  },
  {
   "cell_type": "code",
   "execution_count": null,
   "metadata": {},
   "outputs": [],
   "source": []
  }
 ],
 "metadata": {
  "kernelspec": {
   "display_name": "Python 3",
   "language": "python",
   "name": "python3"
  },
  "language_info": {
   "codemirror_mode": {
    "name": "ipython",
    "version": 3
   },
   "file_extension": ".py",
   "mimetype": "text/x-python",
   "name": "python",
   "nbconvert_exporter": "python",
   "pygments_lexer": "ipython3",
   "version": "3.6.3"
  }
 },
 "nbformat": 4,
 "nbformat_minor": 2
}
